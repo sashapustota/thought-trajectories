{
 "cells": [
  {
   "cell_type": "markdown",
   "id": "d871a64c-ea40-435d-8afd-9678e59c0996",
   "metadata": {},
   "source": [
    "##### Author: Aleksandrs Baskakovs <aleks@mgmt.au.dk>"
   ]
  },
  {
   "cell_type": "markdown",
   "id": "0b9499f2-f29f-403c-9188-c482d3b3b105",
   "metadata": {},
   "source": [
    "# Reasoning through the embedding space"
   ]
  },
  {
   "cell_type": "markdown",
   "id": "ab26cfa7-0af1-4492-8fa0-0540c233adab",
   "metadata": {},
   "source": [
    "## Load libraries"
   ]
  },
  {
   "cell_type": "code",
   "execution_count": 2,
   "id": "7c8d207a-833d-41ad-8fa3-027b205842f3",
   "metadata": {},
   "outputs": [],
   "source": [
    "# Default\n",
    "import os\n",
    "sys.path.append(os.path.abspath(\"..\"))\n",
    "import re\n",
    "import random\n",
    "import pickle\n",
    "from pathlib import Path\n",
    "from typing import Optional\n",
    "from collections import Counter, defaultdict\n",
    "from tqdm import tqdm\n",
    "import numpy as np\n",
    "import torch\n",
    "\n",
    "# HuggingFace\n",
    "from datasets import load_dataset\n",
    "from dotenv import load_dotenv\n",
    "from huggingface_hub import login\n",
    "\n",
    "# Visualization\n",
    "import matplotlib.pyplot as plt\n",
    "import seaborn as sns\n",
    "from mpl_toolkits.mplot3d import Axes3D\n",
    "from scipy.interpolate import splprep, splev\n",
    "sns.set(style=\"whitegrid\", context=\"notebook\", font_scale=1.2)\n",
    "\n",
    "# ML\n",
    "from transformers import AutoModelForCausalLM, AutoTokenizer\n",
    "from sklearn.decomposition import PCA\n",
    "from sklearn.model_selection import train_test_split\n",
    "from sklearn.metrics import (\n",
    "    accuracy_score, precision_score, recall_score,\n",
    "    f1_score, roc_auc_score, confusion_matrix, classification_report\n",
    ")\n",
    "from torch.utils.data import TensorDataset, DataLoader\n",
    "import torch.nn as nn\n",
    "\n",
    "# Local Import\n",
    "from thoughtminers import ThoughtMiner"
   ]
  },
  {
   "cell_type": "markdown",
   "id": "d7330ce5-aa5e-46f1-ad2b-7ab1271a9c83",
   "metadata": {},
   "source": [
    "## Load the dataset"
   ]
  },
  {
   "cell_type": "code",
   "execution_count": 4,
   "id": "619cec15-cf80-4082-a48a-38921e4f0403",
   "metadata": {},
   "outputs": [
    {
     "data": {
      "application/vnd.jupyter.widget-view+json": {
       "model_id": "a74b2bbdd379456791e6c691de657ebd",
       "version_major": 2,
       "version_minor": 0
      },
      "text/plain": [
       "README.md:   0%|          | 0.00/6.31k [00:00<?, ?B/s]"
      ]
     },
     "metadata": {},
     "output_type": "display_data"
    },
    {
     "data": {
      "application/vnd.jupyter.widget-view+json": {
       "model_id": "30e936fd9f60493899eaf2b69bd59bea",
       "version_major": 2,
       "version_minor": 0
      },
      "text/plain": [
       "train-00000-of-00001.parquet:   0%|          | 0.00/32.2M [00:00<?, ?B/s]"
      ]
     },
     "metadata": {},
     "output_type": "display_data"
    },
    {
     "data": {
      "application/vnd.jupyter.widget-view+json": {
       "model_id": "29742f8de74f4a40b457eca8972189c0",
       "version_major": 2,
       "version_minor": 0
      },
      "text/plain": [
       "Generating train split:   0%|          | 0/251122 [00:00<?, ? examples/s]"
      ]
     },
     "metadata": {},
     "output_type": "display_data"
    }
   ],
   "source": [
    "login(token=\"YOUR TOKEN HERE\")  # Login to Hugging Face Hub\n",
    "dataset = load_dataset(\"SynthLabsAI/Big-Math-RL-Verified\", split = \"train\")"
   ]
  },
  {
   "cell_type": "code",
   "execution_count": null,
   "id": "9e09ad2b-4731-4a4b-beb5-5ac365b48014",
   "metadata": {},
   "outputs": [],
   "source": [
    "# Dataset creation\n",
    "\n",
    "source = \"big_math\"\n",
    "problem_type = \"Math Word Problems\"\n",
    "\n",
    "filtered_problems = [\n",
    "    ex for ex in dataset\n",
    "    if ex.get(\"source\") == source\n",
    "    and ex[\"domain\"] and any(problem_type in d for d in ex[\"domain\"])\n",
    "]\n",
    "\n",
    "print(f\"Found {len(filtered_problems)} {problem_type} problems from {source} dataset.\")\n",
    "\n",
    "# Only filter problems to which answers are purely numeric\n",
    "\n",
    "def is_numeric_answer(ans):\n",
    "    # Remove whitespace and latex markers\n",
    "    clean = ans.strip()\n",
    "    # Remove possible dollar signs or LaTeX markers\n",
    "    clean = re.sub(r'^\\$|\\$$', '', clean)\n",
    "    # Accept: integers, floats, and optionally negative numbers\n",
    "    return re.fullmatch(r'-?\\d+(\\.\\d+)?', clean) is not None\n",
    "\n",
    "dataset_farming = [\n",
    "    ex for ex in filtered_problems\n",
    "    if ex.get(\"source\") == source  # or whichever dataset(s) you want\n",
    "    and ex[\"answer\"] and is_numeric_answer(ex[\"answer\"])\n",
    "]\n",
    "\n",
    "print(f\"Found {len(dataset_farming)} problems with numeric answers in {source} for {problem_type}.\")\n",
    "\n",
    "# Peek into some of the problems if desired\n",
    "for i, ex in enumerate(dataset_farming[:3]):\n",
    "    print(f\"\\nExample {i+1}\")\n",
    "    print(\"Domain: \", ex[\"domain\"])\n",
    "    print(\"Source:\", ex.get(\"source\", \"N/A\"))\n",
    "    print(\"Problem:\\n\", ex[\"problem\"])\n",
    "    print(\"Answer:\\n\", ex[\"answer\"])"
   ]
  },
  {
   "cell_type": "markdown",
   "id": "dd758fef-00e8-4792-9c35-40b7943019e8",
   "metadata": {},
   "source": [
    "## Load the model & the tokenizer"
   ]
  },
  {
   "cell_type": "code",
   "execution_count": 7,
   "id": "09ce5bf2-329e-4bd4-b174-9235b3c55550",
   "metadata": {},
   "outputs": [
    {
     "data": {
      "application/vnd.jupyter.widget-view+json": {
       "model_id": "2516429989cf471ab5e0ca10103322bf",
       "version_major": 2,
       "version_minor": 0
      },
      "text/plain": [
       "tokenizer_config.json:   0%|          | 0.00/7.30k [00:00<?, ?B/s]"
      ]
     },
     "metadata": {},
     "output_type": "display_data"
    },
    {
     "data": {
      "application/vnd.jupyter.widget-view+json": {
       "model_id": "d533935e30134a59a9cb18ffee5e66f5",
       "version_major": 2,
       "version_minor": 0
      },
      "text/plain": [
       "vocab.json:   0%|          | 0.00/2.78M [00:00<?, ?B/s]"
      ]
     },
     "metadata": {},
     "output_type": "display_data"
    },
    {
     "data": {
      "application/vnd.jupyter.widget-view+json": {
       "model_id": "3b2b5b13cef2401ba44bf88a568d602c",
       "version_major": 2,
       "version_minor": 0
      },
      "text/plain": [
       "merges.txt:   0%|          | 0.00/1.67M [00:00<?, ?B/s]"
      ]
     },
     "metadata": {},
     "output_type": "display_data"
    },
    {
     "data": {
      "application/vnd.jupyter.widget-view+json": {
       "model_id": "51a47ed66ac249bcad0032db8cb0ffbc",
       "version_major": 2,
       "version_minor": 0
      },
      "text/plain": [
       "tokenizer.json:   0%|          | 0.00/7.03M [00:00<?, ?B/s]"
      ]
     },
     "metadata": {},
     "output_type": "display_data"
    },
    {
     "data": {
      "application/vnd.jupyter.widget-view+json": {
       "model_id": "652a91a59539417b932a485b5615b515",
       "version_major": 2,
       "version_minor": 0
      },
      "text/plain": [
       "config.json:   0%|          | 0.00/661 [00:00<?, ?B/s]"
      ]
     },
     "metadata": {},
     "output_type": "display_data"
    },
    {
     "data": {
      "application/vnd.jupyter.widget-view+json": {
       "model_id": "0ac6f6f7cd944fec99b5d6e6cc366edb",
       "version_major": 2,
       "version_minor": 0
      },
      "text/plain": [
       "model.safetensors.index.json:   0%|          | 0.00/35.6k [00:00<?, ?B/s]"
      ]
     },
     "metadata": {},
     "output_type": "display_data"
    },
    {
     "data": {
      "application/vnd.jupyter.widget-view+json": {
       "model_id": "3a087fb3a6c64e6bb0f0a02e7262ce02",
       "version_major": 2,
       "version_minor": 0
      },
      "text/plain": [
       "Downloading shards:   0%|          | 0/2 [00:00<?, ?it/s]"
      ]
     },
     "metadata": {},
     "output_type": "display_data"
    },
    {
     "data": {
      "application/vnd.jupyter.widget-view+json": {
       "model_id": "a6c5f17342724ecf93d903e4ffac2344",
       "version_major": 2,
       "version_minor": 0
      },
      "text/plain": [
       "model-00001-of-00002.safetensors:   0%|          | 0.00/3.97G [00:00<?, ?B/s]"
      ]
     },
     "metadata": {},
     "output_type": "display_data"
    },
    {
     "data": {
      "application/vnd.jupyter.widget-view+json": {
       "model_id": "db49bf2d7fbf4883af0b66c937dbb7b1",
       "version_major": 2,
       "version_minor": 0
      },
      "text/plain": [
       "model-00002-of-00002.safetensors:   0%|          | 0.00/2.20G [00:00<?, ?B/s]"
      ]
     },
     "metadata": {},
     "output_type": "display_data"
    },
    {
     "name": "stderr",
     "output_type": "stream",
     "text": [
      "Sliding Window Attention is enabled but not implemented for `sdpa`; unexpected results may be encountered.\n"
     ]
    },
    {
     "data": {
      "application/vnd.jupyter.widget-view+json": {
       "model_id": "59467b2622704e54818d2eebcba80cd2",
       "version_major": 2,
       "version_minor": 0
      },
      "text/plain": [
       "Loading checkpoint shards:   0%|          | 0/2 [00:00<?, ?it/s]"
      ]
     },
     "metadata": {},
     "output_type": "display_data"
    },
    {
     "data": {
      "application/vnd.jupyter.widget-view+json": {
       "model_id": "60eff997752d48c2b28def0bcc6f0e98",
       "version_major": 2,
       "version_minor": 0
      },
      "text/plain": [
       "generation_config.json:   0%|          | 0.00/242 [00:00<?, ?B/s]"
      ]
     },
     "metadata": {},
     "output_type": "display_data"
    }
   ],
   "source": [
    "# Set device (use GPU if available, otherwise fallback to CPU)\n",
    "device = \"cuda\" if torch.cuda.is_available() else \"cpu\"\n",
    "\n",
    "# Load model and tokenizer\n",
    "model_id = \"Qwen/Qwen2.5-3B-Instruct\"\n",
    "tokenizer = AutoTokenizer.from_pretrained(model_id)\n",
    "model = AutoModelForCausalLM.from_pretrained(\n",
    "    model_id,\n",
    "    device_map=\"auto\",\n",
    "    trust_remote_code=True,\n",
    "    torch_dtype=torch.bfloat16\n",
    ")"
   ]
  },
  {
   "cell_type": "markdown",
   "id": "90918901-ed31-4462-9e7c-89c61a0abfec",
   "metadata": {},
   "source": [
    "## Initialize the ThoughtMiner class"
   ]
  },
  {
   "cell_type": "code",
   "execution_count": 8,
   "id": "04c48052-5e59-4f8b-b830-222054e67f73",
   "metadata": {},
   "outputs": [],
   "source": [
    "miner = ThoughtMiner(\n",
    "    model=model,\n",
    "    tokenizer=tokenizer,\n",
    "    max_length=2048,     # override if you want shorter/longer outputs\n",
    "    top_k=50,            # override to control sampling\n",
    "    temperature=0.8      # override to make outputs more random\n",
    ")"
   ]
  },
  {
   "cell_type": "markdown",
   "id": "da500e6e-fa70-49de-919c-191c49ab8019",
   "metadata": {},
   "source": [
    "### Running an exemplary question through our miner"
   ]
  },
  {
   "cell_type": "code",
   "execution_count": 9,
   "id": "8ab3e733-7ac1-44fc-ba7f-4c2264a2e865",
   "metadata": {},
   "outputs": [],
   "source": [
    "# Set up the prompt\n",
    "prompt_style = \"\"\"\n",
    "You are MathSolver, an expert in detailed step-by-step mathematical reasoning.\n",
    "\n",
    "**Instructions:**\n",
    "1. Chain of thought:\n",
    "   - Provide your reasoning in short, clear paragraphs.\n",
    "   - Separate each reasoning paragraph with exactly one blank line.\n",
    "\n",
    "2. Final answer:\n",
    "   - After your reasoning, insert exactly one blank line.\n",
    "   - Then, on a new line, output **only the final numerical answer**. Do **not** include any words, symbols, or explanations. Output just the number. \n",
    "\n",
    "Problem:\n",
    "{problem}\n",
    "\"\"\""
   ]
  },
  {
   "cell_type": "code",
   "execution_count": 10,
   "id": "bd67dfc7-f0c2-42e5-9106-c888483fe7fb",
   "metadata": {},
   "outputs": [],
   "source": [
    "# Pick one question example\n",
    "question_number = 3\n",
    "ex = dataset_farming[question_number]\n",
    "p = ex[\"problem\"]\n",
    "prompt = prompt_style.format(problem=p)\n",
    "\n",
    "inputs = tokenizer([prompt], return_tensors=\"pt\").to(model.device)\n",
    "\n",
    "# input length\n",
    "input_length = inputs.input_ids.shape[1]"
   ]
  },
  {
   "cell_type": "code",
   "execution_count": 11,
   "id": "59369192-8849-438e-b8ea-8549605112a3",
   "metadata": {},
   "outputs": [],
   "source": [
    "# Run the question through our model and get the desired number of responses (20 in this case)\n",
    "outputs = miner.forward_pass(inputs=inputs, num_return_sequences = 20)"
   ]
  },
  {
   "cell_type": "markdown",
   "id": "3d91e250-4465-420a-b4f5-f88c7cd515b2",
   "metadata": {},
   "source": [
    "### Extracting thought trajectories for each model response"
   ]
  },
  {
   "cell_type": "code",
   "execution_count": 12,
   "id": "fa44edef-038f-4fdd-b7ff-33152324f3ec",
   "metadata": {
    "scrolled": true
   },
   "outputs": [],
   "source": [
    "continuous_trajectories, token_trajectories = miner.get_continuous_thoughts(outputs = outputs, input_length = input_length)"
   ]
  },
  {
   "cell_type": "code",
   "execution_count": 13,
   "id": "dbf76d74-3a6d-4876-838c-28ac26e830e3",
   "metadata": {},
   "outputs": [
    {
     "name": "stdout",
     "output_type": "stream",
     "text": [
      ">> len(continuous_trajectories): 20\n",
      "   Trajectory 0: 7 steps\n",
      "   Trajectory 1: 9 steps\n",
      "   Trajectory 2: 9 steps\n",
      "   Trajectory 3: 12 steps\n",
      "   Trajectory 4: 11 steps\n",
      "   Trajectory 5: 13 steps\n",
      "   Trajectory 6: 17 steps\n",
      "   Trajectory 7: 14 steps\n",
      "   Trajectory 8: 37 steps\n",
      "   Trajectory 9: 8 steps\n",
      "   Trajectory 10: 12 steps\n",
      "   Trajectory 11: 12 steps\n",
      "   Trajectory 12: 9 steps\n",
      "   Trajectory 13: 7 steps\n",
      "   Trajectory 14: 10 steps\n",
      "   Trajectory 15: 7 steps\n",
      "   Trajectory 16: 11 steps\n",
      "   Trajectory 17: 14 steps\n",
      "   Trajectory 18: 6 steps\n",
      "   Trajectory 19: 8 steps\n"
     ]
    }
   ],
   "source": [
    "# How many reasoning steps in each run.\n",
    "\n",
    "print(\">> len(continuous_trajectories):\", len(continuous_trajectories))\n",
    "for i, traj in enumerate(continuous_trajectories):\n",
    "    print(f\"   Trajectory {i}: {len(traj)} steps\")"
   ]
  },
  {
   "cell_type": "markdown",
   "id": "aa9fa843-7687-49a1-bcfd-067f76675903",
   "metadata": {},
   "source": [
    "The code below inspects individual runs and how the model split the answer into distinct reasoning steps, this is purely for sense checking our ThoughtMiner class performance."
   ]
  },
  {
   "cell_type": "markdown",
   "id": "e4a6b77a-389a-488c-938d-7aae4ac7562e",
   "metadata": {},
   "source": [
    "First, we create helper functions to **A)** Extract the \"ground truth\" answer for our question from the dataset, **B)** Extract the answer provided by the model in a given run and **C)** Compare the two answers and compute the reward (1 if correct, 0 if incorrect) - this will be used later for the training of the reward model.\n",
    "\n",
    "Note that if used for another dataset, or even another subset of the core dataset used in this project, these will likely have to be adjusted slightly."
   ]
  },
  {
   "cell_type": "code",
   "execution_count": 14,
   "id": "152fcc42-6fcf-41a3-b014-58ec55ed1c88",
   "metadata": {},
   "outputs": [],
   "source": [
    "def extract_math_answer(text: str) -> Optional[str]:\n",
    "    \"\"\"\n",
    "    Extracts the final answer from model output.\n",
    "    Handles common MATH conventions: \\boxed{...}, LaTeX blocks, or plain numbers.\n",
    "    Returns the answer as a string (or None).\n",
    "    \"\"\"\n",
    "    # 1. Try to match inside \\boxed{...}\n",
    "    m = re.search(r'\\\\boxed\\{([^\\}]+)\\}', text)\n",
    "    if m:\n",
    "        return m.group(1).strip()\n",
    "\n",
    "    # 2. Try to match a standalone number/expr in last line(s)\n",
    "    lines = [l.strip() for l in text.strip().splitlines() if l.strip()]\n",
    "    if lines:\n",
    "        last = lines[-1]\n",
    "        # Remove math delimiters if present\n",
    "        last = re.sub(r'^\\$?\\$?\\\\?\\[?|\\$?\\$?\\\\?\\]?$','', last).strip()\n",
    "        # If it's still in \\boxed{...}\n",
    "        m2 = re.search(r'\\\\boxed\\{([^\\}]+)\\}', last)\n",
    "        if m2:\n",
    "            return m2.group(1).strip()\n",
    "        # If it's a number (possibly with /, ., -, ^, etc)\n",
    "        m3 = re.match(r'^[-\\d\\.,/^\\s]+$', last)\n",
    "        if m3:\n",
    "            return last\n",
    "\n",
    "    # 3. Fallback: match any number in the last line\n",
    "    m4 = re.search(r'([-+]?\\d*\\.?\\d+)', lines[-1]) if lines else None\n",
    "    if m4:\n",
    "        return m4.group(1)\n",
    "    return None\n",
    "\n",
    "def get_reference_math(example: dict) -> float:\n",
    "    \"\"\"\n",
    "    Returns the numeric answer (float) for a math example.\n",
    "    \"\"\"\n",
    "    ans = example[\"answer\"]\n",
    "    # Remove LaTeX, whitespace, etc.\n",
    "    ans = re.sub(r'^\\$|\\$$', '', ans.strip())\n",
    "    # Try to directly convert to float\n",
    "    try:\n",
    "        return float(ans)\n",
    "    except ValueError:\n",
    "        # If answer is not directly convertible, fallback to regex\n",
    "        m = re.search(r'-?\\d+(\\.\\d+)?', ans)\n",
    "        if m:\n",
    "            return float(m.group(0))\n",
    "        else:\n",
    "            raise ValueError(f\"Could not extract numeric answer from: {ans!r}\")\n",
    "\n",
    "def to_number(s):\n",
    "    \"\"\"\n",
    "    Converts a string to int or float, if possible.\n",
    "    Returns float or int if conversion works, else None.\n",
    "    \"\"\"\n",
    "    if s is None:\n",
    "        return None\n",
    "    s = str(s).strip()\n",
    "    # Remove LaTeX delimiters if any\n",
    "    s = re.sub(r'[^\\d\\.\\-\\/]', '', s)\n",
    "    try:\n",
    "        # Handle fractions like 3/4\n",
    "        if '/' in s:\n",
    "            num, denom = s.split('/', 1)\n",
    "            return float(num) / float(denom)\n",
    "        # Try integer\n",
    "        if '.' not in s:\n",
    "            return int(s)\n",
    "        # Fallback to float\n",
    "        return float(s)\n",
    "    except Exception:\n",
    "        return None\n",
    "\n",
    "def get_reward_math(predicted: Optional[str], reference: float, tol=1e-5) -> float:\n",
    "    \"\"\"\n",
    "    Compares extracted model answer to reference, allowing for small tolerance.\n",
    "    \"\"\"\n",
    "    pred_num = to_number(predicted)\n",
    "    if pred_num is not None and abs(pred_num - reference) < tol:\n",
    "        return 1.0\n",
    "    return 0.0"
   ]
  },
  {
   "cell_type": "code",
   "execution_count": 15,
   "id": "2b443139-be68-48ce-99b0-26dd8c9079e7",
   "metadata": {},
   "outputs": [
    {
     "name": "stdout",
     "output_type": "stream",
     "text": [
      "=== Reasoning Steps ===\n",
      "\n",
      "---STEP---\n",
      "To determine how many people should be conscripted from the western village, we need to follow these steps:\n",
      "\n",
      "\n",
      "---STEP---\n",
      "1. Calculate the total population of all three villages.\n",
      "2. Determine the proportion of the total population that the western village represents.\n",
      "3. Use this proportion to find out how many people should be conscripted from the western village.\n",
      "\n",
      "\n",
      "---STEP---\n",
      "First, calculate the total population of the three villages:\n",
      "\\[ 8758 + 7236 + 8356 = 24350 \\]\n",
      "\n",
      "\n",
      "---STEP---\n",
      "Next, determine the proportion of the total population that the western village represents:\n",
      "\\[ \\text{Proportion of western village} = \\frac{7236}{24350} \\]\n",
      "\n",
      "\n",
      "---STEP---\n",
      "Now, use this proportion to find out how many people should be conscripted from the western village:\n",
      "\\[ \\text{Number of people to be conscripted from the western village} = \\left( \\frac{7236}{24350} \\right) \\times 378 \\]\n",
      "\n",
      "\n",
      "---STEP---\n",
      "Let's perform the calculation step by step:\n",
      "\\[ \\frac{7236}{24350} \\approx 0.2983 \\]\n",
      "\\[ 0.2983 \\times 378 \\approx 112.5634 \\]\n",
      "\n",
      "\n",
      "---STEP---\n",
      "Since we need to express the answer as a whole number, we round 112.5634 to the nearest whole number, which is 113.\n",
      "\n",
      "\n",
      "---STEP---\n",
      "Thus, the number of people to be conscripted from the western village is:\n",
      "\\[\n",
      "\\boxed{113}\n",
      "\\]\n",
      "\n",
      "\n",
      "\n",
      "Predicted answer: 113\n",
      "Reference answer: 112.0\n",
      "Reward: 0.0\n"
     ]
    }
   ],
   "source": [
    "import re\n",
    "from typing import Optional\n",
    "\n",
    "# Pick which example/trajectory to inspect\n",
    "trajectory = 9\n",
    "\n",
    "# --- 1. Print individual reasoning steps ---\n",
    "print(\"=== Reasoning Steps ===\\n\")\n",
    "for step_ids in token_trajectories[trajectory]:\n",
    "    print(\"---STEP---\")  # blank line between steps\n",
    "    step_text = tokenizer.decode(step_ids, skip_special_tokens=True)\n",
    "    # Each `step_text` should correspond to one paragraph/step\n",
    "    print(step_text)\n",
    "\n",
    "# --- 2. Reconstruct the full model output ---\n",
    "full_output = \"\".join(\n",
    "    tokenizer.decode(ids, skip_special_tokens=True)\n",
    "    for ids in token_trajectories[trajectory]\n",
    ")\n",
    "# print(\"=== Full Model Output ===\\n\", full_output)\n",
    "\n",
    "# --- 3. Extract predicted answer and gold, then score ---\n",
    "predicted = extract_math_answer(full_output)\n",
    "print(\"\\n\\n\")\n",
    "print(\"Predicted answer:\", predicted)\n",
    "\n",
    "sample = dataset_farming[question_number]\n",
    "reference = get_reference_math(sample)\n",
    "print(\"Reference answer:\", reference)\n",
    "\n",
    "score = get_reward_math(predicted, reference)\n",
    "print(\"Reward:\", score)"
   ]
  },
  {
   "cell_type": "markdown",
   "id": "f7b59738-dfcc-43dc-b4ec-1ddc5a5fb0b0",
   "metadata": {},
   "source": [
    "### Visualizing the reasoning trajectory in a lower dimensional space"
   ]
  },
  {
   "cell_type": "markdown",
   "id": "1e4a1f08-8bb6-45bf-9f32-5b216207a56c",
   "metadata": {},
   "source": [
    "Currently our reasoning trajectory is in a default, 2048-dimensional reasoning space. Below, we use PCA to reduce the dimensionality of the these trajectories to only 2-dimensions so that we can visualize the trajectory in a 2D space. It is important to note, however, that when we train our reward model later, we do not reserve ourselves to only 2 dimensions, as a lot of the signal is being lost in the process of dimensionality reduction."
   ]
  },
  {
   "cell_type": "code",
   "execution_count": 16,
   "id": "4978968d-e892-4ea8-8d90-2cc825b04d21",
   "metadata": {},
   "outputs": [],
   "source": [
    "def process_trajectories_for_pca(continuous_trajectories, token_trajectories, n_components):\n",
    "    \"\"\"\n",
    "    Filters valid runs (matching step and token lengths), flattens step-vectors,\n",
    "    and runs PCA.\n",
    "\n",
    "    Returns:\n",
    "        pca_traj: np.ndarray, shape (total_steps, n_components)\n",
    "        idxs: np.ndarray of run_ids for each step\n",
    "        valid_runs: list of valid run indices\n",
    "    \"\"\"\n",
    "    valid_runs = []\n",
    "    for run_id, (traj, toktraj) in enumerate(zip(continuous_trajectories, token_trajectories)):\n",
    "        if len(traj) != len(toktraj):\n",
    "            print(f\"  ➔ Dropping run {run_id}: step‐count mismatch ({len(traj)} vs {len(toktraj)})\")\n",
    "            continue\n",
    "        mismatches = [\n",
    "            (i, step.size(0), toktraj[i].size(0))\n",
    "            for i, step in enumerate(traj)\n",
    "            if step.size(0) != toktraj[i].size(0)\n",
    "        ]\n",
    "        if mismatches:\n",
    "            print(f\"  ➔ Dropping run {run_id}: per‐step length mismatches {mismatches}\")\n",
    "            continue\n",
    "        valid_runs.append(run_id)\n",
    "\n",
    "    print(f\"\\nKeeping runs: {valid_runs}\\n\")\n",
    "\n",
    "    flat_steps, flat_idxs = [], []\n",
    "    for run_id in valid_runs:\n",
    "        traj = continuous_trajectories[run_id]\n",
    "        for step_tensor in traj:\n",
    "            if step_tensor.numel() == 0 or torch.isnan(step_tensor).any():\n",
    "                continue\n",
    "            vec = step_tensor.mean(dim=0)\n",
    "            flat_steps.append(vec.detach().cpu().float().numpy())\n",
    "            flat_idxs.append(run_id)\n",
    "\n",
    "    if flat_steps:\n",
    "        steps_2d = np.vstack(flat_steps)\n",
    "        idxs = np.array(flat_idxs)\n",
    "        print(f\"Total kept steps: {steps_2d.shape[0]}\")\n",
    "        print(f\"steps_2d.shape: {steps_2d.shape}\")\n",
    "        pca = PCA(n_components=n_components)\n",
    "        pca_traj = pca.fit_transform(steps_2d)\n",
    "        print(\"PCA output shape:\", pca_traj.shape)\n",
    "    else:\n",
    "        pca_traj, idxs = None, None\n",
    "        print(\"No steps to stack!\")\n",
    "\n",
    "    return pca_traj, idxs, valid_runs\n"
   ]
  },
  {
   "cell_type": "code",
   "execution_count": 24,
   "id": "085c9d12-706c-4059-891a-c4a4aa442e04",
   "metadata": {},
   "outputs": [
    {
     "name": "stdout",
     "output_type": "stream",
     "text": [
      "  ➔ Dropping run 8: per‐step length mismatches [(33, 7, 39), (34, 0, 43), (35, 0, 48), (36, 0, 58)]\n",
      "\n",
      "Keeping runs: [0, 1, 2, 3, 4, 5, 6, 7, 9, 10, 11, 12, 13, 14, 15, 16, 17, 18, 19]\n",
      "\n",
      "Total kept steps: 196\n",
      "steps_2d.shape: (196, 2048)\n",
      "PCA output shape: (196, 3)\n"
     ]
    },
    {
     "data": {
      "image/png": "[encoded data removed]",
      "text/plain": [
       "<Figure size 1200x800 with 1 Axes>"
      ]
     },
     "metadata": {},
     "output_type": "display_data"
    }
   ],
   "source": [
    "pca_traj, idxs, valid_runs = process_trajectories_for_pca(\n",
    "    continuous_trajectories, token_trajectories, n_components=3\n",
    ")\n",
    "\n",
    "# Get correct/incorrect label for each trajectory\n",
    "decoded_texts = []\n",
    "for run_id in valid_runs:\n",
    "    run_tokens = token_trajectories[run_id]\n",
    "    all_token_ids = torch.cat([step for step in run_tokens], dim=0)\n",
    "    decoded = tokenizer.decode(all_token_ids, skip_special_tokens=True)\n",
    "    decoded_texts.append(decoded)\n",
    "\n",
    "sample = dataset_farming[question_number]\n",
    "reference = get_reference_math(sample)\n",
    "\n",
    "run_correct = []\n",
    "for output in decoded_texts:\n",
    "    pred = extract_math_answer(output)\n",
    "    reward = get_reward_math(pred, reference)\n",
    "    run_correct.append(bool(reward))\n",
    "\n",
    "fig = plt.figure(figsize=(12, 8))  # wider, taller\n",
    "ax = fig.add_subplot(111, projection='3d')\n",
    "\n",
    "# Track whether we've already labeled each type\n",
    "color_map = {True: \"tab:green\", False: \"tab:red\"}\n",
    "\n",
    "for i, run_id in enumerate(valid_runs):\n",
    "    mask = (idxs == run_id)\n",
    "    x, y, z = pca_traj[mask, 0], pca_traj[mask, 1], pca_traj[mask, 2]\n",
    "    correct = run_correct[i]\n",
    "    color = color_map[correct]\n",
    "    label = \"Correct\" if correct else \"Incorrect\"\n",
    "    label_to_use = label if not already[label] else None\n",
    "    if label_to_use:\n",
    "        already[label] = True\n",
    "\n",
    "    if len(x) > 3:\n",
    "        tck, u = splprep([x, y, z], s=0)\n",
    "        u_fine = np.linspace(0, 1, 200)\n",
    "        x_smooth, y_smooth, z_smooth = splev(u_fine, tck)\n",
    "        ax.plot(x_smooth, y_smooth, z_smooth, color=color, alpha=0.7, linewidth=1.0, label=label_to_use)\n",
    "    else:\n",
    "        ax.plot(x, y, z, color=color, alpha=0.7, linewidth=1.0, label=label_to_use)\n",
    "\n",
    "for correct, color in color_map.items():\n",
    "    label = \"Correct\" if correct else \"Incorrect\"\n",
    "    ax.plot([], [], [], color=color, label=label)  # Empty line just for legend\n",
    "ax.legend(loc=\"center left\", bbox_to_anchor=(1.04, 0.5), fontsize=12)\n",
    "\n",
    "ax.set_title(\"Thought Trajectories in 3D PCA Space\", pad=30)\n",
    "ax.set_xlabel(\"PC1\", labelpad=18)\n",
    "ax.set_ylabel(\"PC2\", labelpad=18)\n",
    "ax.set_zlabel(\"PC3\", labelpad=18)\n",
    "ax.legend(loc=\"center left\", bbox_to_anchor=(1.04, 0.5), fontsize=12)\n",
    "plt.subplots_adjust(left=0.0, right=0.85, bottom=0.0, top=0.95)\n",
    "\n",
    "#plt.savefig(\"plots/pca_trajectories_3d.png\", dpi=300, bbox_inches=\"tight\")\n",
    "\n",
    "plt.show()"
   ]
  },
  {
   "cell_type": "markdown",
   "id": "6d8e1f42-64e1-40d7-a418-8cbd6b1a378c",
   "metadata": {},
   "source": [
    "## Farming thought trajectories"
   ]
  },
  {
   "cell_type": "markdown",
   "id": "0aa9bab5-924f-4c77-8981-65a1f1e37f76",
   "metadata": {},
   "source": [
    "Now we will create a dataset of thought trajectories.n_examples        = 2000\n",
    "num_return_seqs   = 20\n",
    "start_idx         = 0\n",
    "min_steps_per_run = 4\n",
    "max_steps_per_run = 14\n",
    "checkpoint_every  = 50  # Save every 50 questions We will extract model responses for *n_examples* questions, running each question *num_return_seqs* times through the model, extract the distinct reasoning steps per each run, as well as the final answer."
   ]
  },
  {
   "cell_type": "code",
   "execution_count": 75,
   "id": "5136aa6c-ecec-41d9-930c-c34400b38bda",
   "metadata": {
    "scrolled": true
   },
   "outputs": [
    {
     "name": "stdout",
     "output_type": "stream",
     "text": [
      "\n",
      "Question 0 — answer = 29.0\n",
      "  → Dropped 2 runs, kept 18.\n",
      "    Run  0: predicted = 28           → ❌ WRONG\n",
      "    Run  1: predicted = 28           → ❌ WRONG\n",
      "    Run  2: predicted = 28           → ❌ WRONG\n",
      "    Run  4: predicted = 28           → ❌ WRONG\n",
      "    Run  5: predicted = None         → ❌ WRONG\n",
      "    Run  6: predicted = 28           → ❌ WRONG\n",
      "    Run  7: predicted = 28           → ❌ WRONG\n",
      "    Run  8: predicted = 28           → ❌ WRONG\n",
      "    Run  9: predicted = 28           → ❌ WRONG\n",
      "    Run 10: predicted = 28           → ❌ WRONG\n",
      "    Run 11: predicted = 28           → ❌ WRONG\n",
      "    Run 12: predicted = 28           → ❌ WRONG\n",
      "    Run 13: predicted = 28           → ❌ WRONG\n",
      "    Run 14: predicted = 28           → ❌ WRONG\n",
      "    Run 15: predicted = 28           → ❌ WRONG\n",
      "    Run 17: predicted = None         → ❌ WRONG\n",
      "    Run 18: predicted = 28           → ❌ WRONG\n",
      "    Run 19: predicted = 28           → ❌ WRONG\n",
      "  Summary: 0 correct, 18 wrong out of 18 kept runs\n",
      "\n",
      "Question 1 — answer = 20.0\n",
      "  → Dropped 8 runs, kept 12.\n",
      "    Run  2: predicted = 20           → ✅ CORRECT\n",
      "    Run  3: predicted = 50           → ❌ WRONG\n",
      "    Run  7: predicted = 20           → ✅ CORRECT\n",
      "    Run  8: predicted = 20           → ✅ CORRECT\n",
      "    Run 11: predicted = 20           → ✅ CORRECT\n",
      "    Run 13: predicted = 20           → ✅ CORRECT\n",
      "    Run 14: predicted = 20           → ✅ CORRECT\n",
      "    Run 15: predicted = 20           → ✅ CORRECT\n",
      "    Run 16: predicted = 2            → ❌ WRONG\n",
      "    Run 17: predicted = 20           → ✅ CORRECT\n",
      "    Run 18: predicted = 20           → ✅ CORRECT\n",
      "    Run 19: predicted = 20           → ✅ CORRECT\n",
      "  Summary: 10 correct, 2 wrong out of 12 kept runs\n",
      "\n",
      "Question 2 — answer = 27.0\n",
      "  → Dropped 3 runs, kept 17.\n",
      "    Run  0: predicted = 27           → ✅ CORRECT\n",
      "    Run  1: predicted = 27           → ✅ CORRECT\n",
      "    Run  2: predicted = 27           → ✅ CORRECT\n",
      "    Run  3: predicted = 27           → ✅ CORRECT\n",
      "    Run  4: predicted = 27           → ✅ CORRECT\n",
      "    Run  5: predicted = 27           → ✅ CORRECT\n",
      "    Run  6: predicted = 27           → ✅ CORRECT\n",
      "    Run  7: predicted = 27           → ✅ CORRECT\n",
      "    Run  8: predicted = 27           → ✅ CORRECT\n",
      "    Run  9: predicted = 36           → ❌ WRONG\n",
      "    Run 10: predicted = 51           → ❌ WRONG\n",
      "    Run 11: predicted = 27           → ✅ CORRECT\n",
      "    Run 12: predicted = 27           → ✅ CORRECT\n",
      "    Run 15: predicted = 27           → ✅ CORRECT\n",
      "    Run 16: predicted = 27           → ✅ CORRECT\n",
      "    Run 17: predicted = 27           → ✅ CORRECT\n",
      "    Run 19: predicted = 27           → ✅ CORRECT\n",
      "  Summary: 15 correct, 2 wrong out of 17 kept runs\n",
      "\n",
      "Question 3 — answer = 112.0\n",
      "  → Dropped 3 runs, kept 17.\n",
      "    Run  0: predicted = 112          → ✅ CORRECT\n",
      "    Run  1: predicted = 113          → ❌ WRONG\n",
      "    Run  2: predicted = 114          → ❌ WRONG\n",
      "    Run  3: predicted = 112          → ✅ CORRECT\n",
      "    Run  4: predicted = 113          → ❌ WRONG\n",
      "    Run  5: predicted = 112          → ✅ CORRECT\n",
      "    Run  6: predicted = 108          → ❌ WRONG\n",
      "    Run  9: predicted = 113          → ❌ WRONG\n",
      "    Run 10: predicted = 117          → ❌ WRONG\n",
      "    Run 11: predicted = 112          → ✅ CORRECT\n",
      "    Run 12: predicted = 111          → ❌ WRONG\n",
      "    Run 13: predicted = 112          → ✅ CORRECT\n",
      "    Run 14: predicted = 1110         → ❌ WRONG\n",
      "    Run 15: predicted = 113          → ❌ WRONG\n",
      "    Run 16: predicted = 113          → ❌ WRONG\n",
      "    Run 18: predicted = 12           → ❌ WRONG\n",
      "    Run 19: predicted = 112          → ✅ CORRECT\n",
      "  Summary: 6 correct, 11 wrong out of 17 kept runs\n",
      "\n",
      "Question 4 — answer = 81.0\n",
      "  → Dropped 18 runs, kept 2.\n",
      "    Run  7: predicted = 81           → ✅ CORRECT\n",
      "    Run 16: predicted = 81           → ✅ CORRECT\n",
      "  Summary: 2 correct, 0 wrong out of 2 kept runs\n",
      "\n",
      "Question 5 — answer = 192.0\n",
      "  → Dropped 6 runs, kept 14.\n",
      "    Run  0: predicted = 192          → ✅ CORRECT\n",
      "    Run  1: predicted = 192          → ✅ CORRECT\n",
      "    Run  3: predicted = 192          → ✅ CORRECT\n",
      "    Run  4: predicted = 192          → ✅ CORRECT\n",
      "    Run  6: predicted = 192          → ✅ CORRECT\n",
      "    Run  7: predicted = 192          → ✅ CORRECT\n",
      "    Run  8: predicted = 48           → ❌ WRONG\n",
      "    Run  9: predicted = 192          → ✅ CORRECT\n",
      "    Run 11: predicted = 96           → ❌ WRONG\n",
      "    Run 12: predicted = 192          → ✅ CORRECT\n",
      "    Run 13: predicted = 192          → ✅ CORRECT\n",
      "    Run 15: predicted = 192          → ✅ CORRECT\n",
      "    Run 16: predicted = 192          → ✅ CORRECT\n",
      "    Run 19: predicted = None         → ❌ WRONG\n",
      "  Summary: 11 correct, 3 wrong out of 14 kept runs\n",
      "\n",
      "Question 6 — answer = 16.0\n",
      "  → Dropped 7 runs, kept 13.\n",
      "    Run  1: predicted = 16           → ✅ CORRECT\n",
      "    Run  2: predicted = 16           → ✅ CORRECT\n",
      "    Run  3: predicted = 16           → ✅ CORRECT\n",
      "    Run  6: predicted = 16           → ✅ CORRECT\n",
      "    Run  8: predicted = 16           → ✅ CORRECT\n",
      "    Run  9: predicted = 16           → ✅ CORRECT\n",
      "    Run 10: predicted = 16           → ✅ CORRECT\n",
      "    Run 12: predicted = 16           → ✅ CORRECT\n",
      "    Run 13: predicted = 16           → ✅ CORRECT\n",
      "    Run 15: predicted = 16           → ✅ CORRECT\n",
      "    Run 16: predicted = 16           → ✅ CORRECT\n",
      "    Run 17: predicted = 16           → ✅ CORRECT\n",
      "    Run 18: predicted = 16           → ✅ CORRECT\n",
      "  Summary: 13 correct, 0 wrong out of 13 kept runs\n",
      "\n",
      "Question 7 — answer = 6.0\n",
      "  → Dropped 4 runs, kept 16.\n",
      "    Run  0: predicted = 2            → ❌ WRONG\n",
      "    Run  2: predicted = 4            → ❌ WRONG\n",
      "    Run  3: predicted = 2            → ❌ WRONG\n",
      "    Run  4: predicted = 2            → ❌ WRONG\n",
      "    Run  5: predicted = 8            → ❌ WRONG\n",
      "    Run  7: predicted = 8            → ❌ WRONG\n",
      "    Run  8: predicted = 4            → ❌ WRONG\n",
      "    Run  9: predicted = None         → ❌ WRONG\n",
      "    Run 10: predicted = 4            → ❌ WRONG\n",
      "    Run 11: predicted = 8            → ❌ WRONG\n",
      "    Run 12: predicted = 2            → ❌ WRONG\n",
      "    Run 13: predicted = 2            → ❌ WRONG\n",
      "    Run 14: predicted = 2            → ❌ WRONG\n",
      "    Run 16: predicted = 4            → ❌ WRONG\n",
      "    Run 18: predicted = 4            → ❌ WRONG\n",
      "    Run 19: predicted = 2            → ❌ WRONG\n",
      "  Summary: 0 correct, 16 wrong out of 16 kept runs\n",
      "\n",
      "Question 8 — answer = 7.0\n",
      "  → Dropped 7 runs, kept 13.\n",
      "    Run  1: predicted = 11           → ❌ WRONG\n",
      "    Run  3: predicted = 17           → ❌ WRONG\n",
      "    Run  4: predicted = 13           → ❌ WRONG\n",
      "    Run  5: predicted = 11           → ❌ WRONG\n",
      "    Run  6: predicted = 3            → ❌ WRONG\n",
      "    Run  7: predicted = 11           → ❌ WRONG\n",
      "    Run 10: predicted = 8            → ❌ WRONG\n",
      "    Run 11: predicted = 9            → ❌ WRONG\n",
      "    Run 12: predicted = 11           → ❌ WRONG\n",
      "    Run 14: predicted = 5            → ❌ WRONG\n",
      "    Run 15: predicted = 8            → ❌ WRONG\n",
      "    Run 17: predicted = 9            → ❌ WRONG\n",
      "    Run 18: predicted = 5            → ❌ WRONG\n",
      "  Summary: 0 correct, 13 wrong out of 13 kept runs\n",
      "\n",
      "Question 9 — answer = 40.0\n",
      "  → Dropped 8 runs, kept 12.\n",
      "    Run  1: predicted = 40           → ✅ CORRECT\n",
      "    Run  2: predicted = 40           → ✅ CORRECT\n",
      "    Run  3: predicted = 40           → ✅ CORRECT\n",
      "    Run  4: predicted = 40           → ✅ CORRECT\n",
      "    Run  6: predicted = 40           → ✅ CORRECT\n",
      "    Run  9: predicted = 40           → ✅ CORRECT\n",
      "    Run 10: predicted = 40           → ✅ CORRECT\n",
      "    Run 11: predicted = 40           → ✅ CORRECT\n",
      "    Run 14: predicted = 40           → ✅ CORRECT\n",
      "    Run 17: predicted = 20           → ❌ WRONG\n",
      "    Run 18: predicted = 40           → ✅ CORRECT\n",
      "    Run 19: predicted = 40           → ✅ CORRECT\n",
      "  Summary: 11 correct, 1 wrong out of 12 kept runs\n",
      "\n",
      "Question 10 — answer = 18.0\n",
      "  → Dropped 3 runs, kept 17.\n",
      "    Run  0: predicted = 18           → ✅ CORRECT\n",
      "    Run  1: predicted = 18           → ✅ CORRECT\n",
      "    Run  2: predicted = 18           → ✅ CORRECT\n",
      "    Run  3: predicted = 18           → ✅ CORRECT\n",
      "    Run  4: predicted = 18           → ✅ CORRECT\n",
      "    Run  6: predicted = 18           → ✅ CORRECT\n",
      "    Run  7: predicted = 18           → ✅ CORRECT\n",
      "    Run  8: predicted = 18           → ✅ CORRECT\n",
      "    Run  9: predicted = 1            → ❌ WRONG\n",
      "    Run 10: predicted = 18           → ✅ CORRECT\n",
      "    Run 12: predicted = 18           → ✅ CORRECT\n",
      "    Run 14: predicted = 18           → ✅ CORRECT\n",
      "    Run 15: predicted = 18           → ✅ CORRECT\n",
      "    Run 16: predicted = 18           → ✅ CORRECT\n",
      "    Run 17: predicted = 18           → ✅ CORRECT\n",
      "    Run 18: predicted = 18           → ✅ CORRECT\n",
      "    Run 19: predicted = 18           → ✅ CORRECT\n",
      "  Summary: 16 correct, 1 wrong out of 17 kept runs\n",
      "\n",
      "Question 11 — answer = 175.0\n",
      "  → Dropped 7 runs, kept 13.\n",
      "    Run  0: predicted = 175          → ✅ CORRECT\n",
      "    Run  1: predicted = 175          → ✅ CORRECT\n",
      "    Run  2: predicted = 175          → ✅ CORRECT\n",
      "    Run  3: predicted = 17           → ❌ WRONG\n",
      "    Run  6: predicted = 175          → ✅ CORRECT\n",
      "    Run  7: predicted = 175          → ✅ CORRECT\n",
      "    Run  9: predicted = 175          → ✅ CORRECT\n",
      "    Run 10: predicted = 175          → ✅ CORRECT\n",
      "    Run 11: predicted = None         → ❌ WRONG\n",
      "    Run 13: predicted = 175          → ✅ CORRECT\n",
      "    Run 14: predicted = 175          → ✅ CORRECT\n",
      "    Run 15: predicted = 175          → ✅ CORRECT\n",
      "    Run 16: predicted = 175          → ✅ CORRECT\n",
      "  Summary: 11 correct, 2 wrong out of 13 kept runs\n",
      "\n",
      "Question 12 — answer = 32.0\n",
      "  → Dropped 13 runs, kept 7.\n",
      "    Run  3: predicted = 32           → ✅ CORRECT\n",
      "    Run  7: predicted = 140          → ❌ WRONG\n",
      "    Run  9: predicted = 32           → ✅ CORRECT\n",
      "    Run 10: predicted = 140          → ❌ WRONG\n",
      "    Run 15: predicted = 32           → ✅ CORRECT\n",
      "    Run 16: predicted = 140          → ❌ WRONG\n",
      "    Run 18: predicted = 51           → ❌ WRONG\n",
      "  Summary: 3 correct, 4 wrong out of 7 kept runs\n",
      "\n",
      "Question 13 — answer = 3.0\n",
      "  → Dropped 11 runs, kept 9.\n",
      "    Run  0: predicted = 192          → ❌ WRONG\n",
      "    Run  7: predicted = 192          → ❌ WRONG\n",
      "    Run  9: predicted = 192          → ❌ WRONG\n",
      "    Run 14: predicted = 3            → ✅ CORRECT\n",
      "    Run 15: predicted = 3            → ✅ CORRECT\n",
      "    Run 16: predicted = 3            → ✅ CORRECT\n",
      "    Run 17: predicted = 3            → ✅ CORRECT\n",
      "    Run 18: predicted = 192          → ❌ WRONG\n",
      "    Run 19: predicted = 192          → ❌ WRONG\n",
      "  Summary: 4 correct, 5 wrong out of 9 kept runs\n",
      "\n",
      "Question 14 — answer = 160.0\n",
      "  → Dropped 12 runs, kept 8.\n",
      "    Run  0: predicted = 160          → ✅ CORRECT\n",
      "    Run  2: predicted = 160          → ✅ CORRECT\n",
      "    Run  6: predicted = 160          → ✅ CORRECT\n",
      "    Run  8: predicted = 160          → ✅ CORRECT\n",
      "    Run  9: predicted = 160          → ✅ CORRECT\n",
      "    Run 13: predicted = 160          → ✅ CORRECT\n",
      "    Run 16: predicted = 160          → ✅ CORRECT\n",
      "    Run 19: predicted = 160          → ✅ CORRECT\n",
      "  Summary: 8 correct, 0 wrong out of 8 kept runs\n"
     ]
    }
   ],
   "source": [
    "# Configuring parameters\n",
    "n_examples        = 2000\n",
    "num_return_seqs   = 20\n",
    "min_steps_per_run = 4\n",
    "max_steps_per_run = 14  \n",
    "checkpoint_every  = 50  # Save the pickle object every 50 questions\n",
    "\n",
    "results = []\n",
    "\n",
    "# The below function uses the helper functions we defined earlier for extracting ground truth answers and model answers.\n",
    "# If using this with another dataset, replace the functions with your own custom ones.\n",
    "def process_run(rid, cont_trajs, tok_trajs, tokenizer, reference, q, question_number):\n",
    "    decoded_steps = [\n",
    "        tokenizer.decode(tok, skip_special_tokens=True)\n",
    "        for tok in tok_trajs[rid]\n",
    "    ]\n",
    "    step_vecs = [\n",
    "        step.mean(0).squeeze(0).to(torch.float32).cpu().detach().numpy()\n",
    "        for step in cont_trajs[rid]\n",
    "    ]\n",
    "    full_out = \" \".join(decoded_steps)\n",
    "    pred     = extract_math_answer(full_out)\n",
    "    reward   = get_reward_math(pred, reference)\n",
    "    hit      = reward == 1.0\n",
    "    print(f\"    Run {rid:2d}: predicted = {pred!s:12s} → \"\n",
    "          f\"{'✅ CORRECT' if hit else '❌ WRONG'}\")\n",
    "    entry = {\n",
    "        \"question_number\": question_number,\n",
    "        \"question_block\": q,\n",
    "        \"reference\":      reference,\n",
    "        \"predicted\":      pred,\n",
    "        \"reward\":         reward,\n",
    "        \"reasoning_steps\": decoded_steps,\n",
    "        \"step_vectors\":    step_vecs,\n",
    "    }\n",
    "    return entry, hit\n",
    "\n",
    "processed_questions = 0\n",
    "\n",
    "for question_number in range(0, n_examples):\n",
    "    sample    = dataset_farming[question_number]\n",
    "    reference = get_reference_math(sample)\n",
    "\n",
    "    q = sample[\"problem\"]\n",
    "    prompt = prompt_style.format(problem=q)\n",
    "    inputs = tokenizer([prompt], return_tensors=\"pt\").to(model.device)\n",
    "    input_length = inputs.input_ids.shape[1]\n",
    "\n",
    "    outputs = miner.forward_pass(\n",
    "        inputs=inputs,\n",
    "        num_return_sequences=num_return_seqs\n",
    "    )\n",
    "\n",
    "    cont_trajs, tok_trajs = miner.get_continuous_thoughts(\n",
    "        outputs=outputs,\n",
    "        input_length=input_length\n",
    "    )\n",
    "\n",
    "    # Filter runs by step count and alignment\n",
    "    valid = [\n",
    "        rid for rid, (traj, tok) in enumerate(zip(cont_trajs, tok_trajs))\n",
    "        if min_steps_per_run <= len(traj) <= max_steps_per_run\n",
    "        and len(traj) == len(tok)\n",
    "        and all(traj[i].size(0) == tok[i].size(0) for i in range(len(traj)))\n",
    "    ]\n",
    "\n",
    "    dropped = num_return_seqs - len(valid)\n",
    "    kept    = len(valid)\n",
    "\n",
    "    print(f\"\\nQuestion {question_number} — answer = {reference}\")\n",
    "    print(f\"  → Dropped {dropped} runs, kept {kept}.\")\n",
    "\n",
    "    corr = wrong = 0\n",
    "    for rid in valid:\n",
    "        entry, hit = process_run(rid, cont_trajs, tok_trajs, tokenizer, reference, q, question_number)\n",
    "        results.append(entry)\n",
    "        if hit:\n",
    "            corr += 1\n",
    "        else:\n",
    "            wrong += 1\n",
    "\n",
    "    print(f\"  Summary: {corr} correct, {wrong} wrong out of {kept} kept runs\")\n",
    "\n",
    "    processed_questions += 1\n",
    "    if processed_questions == 15:\n",
    "        break\n",
    "    # Save checkpoint every N questions\n",
    "    if processed_questions % checkpoint_every == 0:\n",
    "        print(f\"--- checkpointing after {processed_questions} questions ---\")\n",
    "        with open(\"results_math_checkpoint.pkl\", \"wb\") as f:\n",
    "            pickle.dump(results, f)\n",
    "\n",
    "# Save final results\n",
    "with open(\"results_math_final.pkl\", \"wb\") as f:\n",
    "    pickle.dump(results, f)"
   ]
  },
  {
   "cell_type": "markdown",
   "id": "e568fec6-0744-4b88-93b3-0567b5c0209f",
   "metadata": {},
   "source": [
    "# Training a reward model"
   ]
  },
  {
   "cell_type": "markdown",
   "id": "74b1a9d3-f7dd-4b63-9486-ad9e6bcba4d6",
   "metadata": {},
   "source": [
    "#### Load our pickle object with the farmed trajectories and creating the dataset"
   ]
  },
  {
   "cell_type": "code",
   "execution_count": 25,
   "id": "5eeb49a8-ff71-4e8f-b52a-93760040a275",
   "metadata": {},
   "outputs": [],
   "source": [
    "with open(\"data/results_math_checkpoint.pkl\", \"rb\") as f:\n",
    "    results = pickle.load(f)"
   ]
  },
  {
   "cell_type": "markdown",
   "id": "afdec977-fd4e-4836-abff-b40cece0e027",
   "metadata": {},
   "source": [
    "We group all runs by question number and only keep questions where the model gave both correct and incorrect answers (so, no questions where it always got them all right or all wrong). For each such “mixed” question, we keep just one example per unique predicted answer—no duplicates. This gives us a set with more variety, but it’s unbalanced (more wrong answers than right), which we’ll deal with later when training the reward model."
   ]
  },
  {
   "cell_type": "code",
   "execution_count": 5,
   "id": "da630b6f-1229-415c-81ff-af6db3d299d4",
   "metadata": {},
   "outputs": [
    {
     "name": "stdout",
     "output_type": "stream",
     "text": [
      "Built dataset of 5873 unique answers from 1914 questions (mixed only: 1363)\n",
      "Correct: 1389 | Incorrect: 4484 | Ratio: 0.31\n",
      "Balanced: 2778 (Pos: 1389, Neg: 1389)\n"
     ]
    }
   ],
   "source": [
    "# Group runs by question number\n",
    "by_question = defaultdict(list)\n",
    "for entry in results:\n",
    "    by_question[entry[\"question_number\"]].append(entry)\n",
    "\n",
    "# Filter to only include questions with both right and wrong answers\n",
    "final_entries = []\n",
    "for qnum, runs in by_question.items():\n",
    "    has_right = any(r[\"reward\"] == 1.0 for r in runs)\n",
    "    has_wrong = any(r[\"reward\"] == 0.0 for r in runs)\n",
    "    if not (has_right and has_wrong):\n",
    "        continue  # skip questions that aren't \"mixed\" - either all wrong or all right\n",
    "\n",
    "    # For each unique predicted answer, keep just one run (first occurrence)\n",
    "    seen_answers = set()\n",
    "    for r in runs:\n",
    "        ans = r[\"predicted\"]\n",
    "        if ans in seen_answers:\n",
    "            continue\n",
    "        final_entries.append(r)\n",
    "        seen_answers.add(ans)\n",
    "\n",
    "print(f\"Built dataset of {len(final_entries)} unique answers from {len(by_question)} questions (mixed only: {sum(1 for q in by_question if any(r['reward']==1.0 for r in by_question[q]) and any(r['reward']==0.0 for r in by_question[q]))})\")\n",
    "\n",
    "# Let's see how many are correct/incorrect\n",
    "n_pos = sum(1 for r in final_entries if r[\"reward\"] == 1.0)\n",
    "n_neg = sum(1 for r in final_entries if r[\"reward\"] == 0.0)\n",
    "print(f\"Correct: {n_pos} | Incorrect: {n_neg} | Ratio: {n_pos/n_neg:.2f}\")"
   ]
  },
  {
   "cell_type": "markdown",
   "id": "b67b77dd-9340-429e-8e22-4cca4bdb4a01",
   "metadata": {},
   "source": [
    "We take each trajectory and turn it into a fixed-length sequence: if a run has fewer steps, we pad it with zeros so every example has the same shape. Then we flatten these trajectories and try out different PCA dimensionalities (10, 50, 100, 500) to reduce the hidden state size. For each PCA setting, we train a simple LSTM-based reward model on the trajectories, using a weighted loss to help with class imbalance. The model is trained only on the training split and saved for each dimensionality—so we can later see which feature size works best."
   ]
  },
  {
   "cell_type": "code",
   "execution_count": 9,
   "id": "64f64774-11c0-4c28-8e44-10c806d2c477",
   "metadata": {},
   "outputs": [
    {
     "name": "stdout",
     "output_type": "stream",
     "text": [
      "Final entries: 5873 | hidden_dim: 2048\n",
      "\n",
      "→ PCA → 10 components\n",
      "  [dim=10] Epoch  1 — loss: 155.3724\n",
      "  [dim=10] Epoch  2 — loss: 154.7183\n",
      "  [dim=10] Epoch  3 — loss: 152.5813\n",
      "  [dim=10] Epoch  4 — loss: 148.4209\n",
      "  [dim=10] Epoch  5 — loss: 146.6575\n",
      "  [dim=10] Epoch  6 — loss: 145.5187\n",
      "  [dim=10] Epoch  7 — loss: 144.4176\n",
      "  [dim=10] Epoch  8 — loss: 143.6163\n",
      "  [dim=10] Epoch  9 — loss: 142.6560\n",
      "  [dim=10] Epoch 10 — loss: 141.7213\n",
      "  [dim=10] Epoch 11 — loss: 140.9657\n",
      "\n",
      "→ PCA → 50 components\n",
      "  [dim=50] Epoch  1 — loss: 155.5274\n",
      "  [dim=50] Epoch  2 — loss: 155.0106\n",
      "  [dim=50] Epoch  3 — loss: 152.6516\n",
      "  [dim=50] Epoch  4 — loss: 146.8470\n",
      "  [dim=50] Epoch  5 — loss: 142.3016\n",
      "  [dim=50] Epoch  6 — loss: 139.0495\n",
      "  [dim=50] Epoch  7 — loss: 135.9982\n",
      "  [dim=50] Epoch  8 — loss: 133.4944\n",
      "  [dim=50] Epoch  9 — loss: 130.6173\n",
      "  [dim=50] Epoch 10 — loss: 127.7210\n",
      "  [dim=50] Epoch 11 — loss: 125.3548\n",
      "\n",
      "→ PCA → 100 components\n",
      "  [dim=100] Epoch  1 — loss: 155.1330\n",
      "  [dim=100] Epoch  2 — loss: 153.8291\n",
      "  [dim=100] Epoch  3 — loss: 149.7042\n",
      "  [dim=100] Epoch  4 — loss: 143.6670\n",
      "  [dim=100] Epoch  5 — loss: 137.2171\n",
      "  [dim=100] Epoch  6 — loss: 132.7614\n",
      "  [dim=100] Epoch  7 — loss: 128.3539\n",
      "  [dim=100] Epoch  8 — loss: 124.0742\n",
      "  [dim=100] Epoch  9 — loss: 119.8119\n",
      "  [dim=100] Epoch 10 — loss: 113.6403\n",
      "  [dim=100] Epoch 11 — loss: 108.4996\n",
      "\n",
      "→ PCA → 500 components\n",
      "  [dim=500] Epoch  1 — loss: 155.2367\n",
      "  [dim=500] Epoch  2 — loss: 153.8670\n",
      "  [dim=500] Epoch  3 — loss: 147.9580\n",
      "  [dim=500] Epoch  4 — loss: 139.4871\n",
      "  [dim=500] Epoch  5 — loss: 132.8255\n",
      "  [dim=500] Epoch  6 — loss: 124.1473\n",
      "  [dim=500] Epoch  7 — loss: 113.0212\n",
      "  [dim=500] Epoch  8 — loss: 99.5370\n",
      "  [dim=500] Epoch  9 — loss: 84.7713\n",
      "  [dim=500] Epoch 10 — loss: 73.1424\n",
      "  [dim=500] Epoch 11 — loss: 62.1134\n"
     ]
    }
   ],
   "source": [
    "max_steps = max_steps_per_run\n",
    "pca_dims = [10, 50, 100, 500]\n",
    "\n",
    "hidden_dim = final_entries[0][\"step_vectors\"][0].shape[0]\n",
    "print(f\"Final entries: {len(final_entries)} | hidden_dim: {hidden_dim}\")\n",
    "\n",
    "X_list, y_list = [], []\n",
    "for e in final_entries:\n",
    "    vecs = e[\"step_vectors\"]\n",
    "    if len(vecs) >= max_steps:\n",
    "        sel = vecs[:max_steps]\n",
    "    else:\n",
    "        pad = [np.zeros(hidden_dim, dtype=np.float32)] * (max_steps - len(vecs))\n",
    "        sel = vecs + pad\n",
    "    X_list.append(np.stack(sel))       # (max_steps, hidden_dim)\n",
    "    y_list.append(float(e[\"reward\"]))\n",
    "\n",
    "X = np.stack(X_list)                  # (N, max_steps, hidden_dim)\n",
    "y = np.array(y_list)                  # (N,)\n",
    "\n",
    "from sklearn.model_selection import train_test_split\n",
    "X_train, X_test, y_train, y_test = train_test_split(\n",
    "    X, y, test_size=0.2, random_state=42, stratify=y\n",
    ")\n",
    "N_train, T, D = X_train.shape\n",
    "N_test = X_test.shape[0]\n",
    "\n",
    "flat_train = X_train.reshape(N_train * T, D)\n",
    "flat_test  = X_test.reshape(N_test  * T, D)\n",
    "\n",
    "device = torch.device(\"cuda\" if torch.cuda.is_available() else \"cpu\")\n",
    "\n",
    "class RewardLSTM(nn.Module):\n",
    "    def __init__(self, input_dim, hidden_dim=64, num_layers=2):\n",
    "        super().__init__()\n",
    "        self.lstm = nn.LSTM(\n",
    "            input_dim,\n",
    "            hidden_dim,\n",
    "            num_layers=num_layers,\n",
    "            batch_first=True\n",
    "        )\n",
    "        self.cls = nn.Linear(hidden_dim, 1)\n",
    "\n",
    "    def forward(self, x):\n",
    "        _, (h_n, _) = self.lstm(x)\n",
    "        h_last = h_n[-1]\n",
    "        return self.cls(h_last)\n",
    "\n",
    "for n_comp in pca_dims:\n",
    "    print(f\"\\n→ PCA → {n_comp} components\")\n",
    "    pca = PCA(n_components=n_comp)\n",
    "    flat_train_red = pca.fit_transform(flat_train)           # (N_train*T, n_comp)\n",
    "    flat_test_red  = pca.transform(flat_test)                # (N_test*T, n_comp)\n",
    "    X_train_red = flat_train_red.reshape(N_train, T, n_comp)\n",
    "    X_test_red  = flat_test_red.reshape(N_test,  T, n_comp)\n",
    "\n",
    "    with open(f\"models/pca_math_{n_comp}.pkl\", \"wb\") as f:\n",
    "        pickle.dump(pca, f)\n",
    "\n",
    "    # Prepare DataLoader **on train only**\n",
    "    X_tensor = torch.tensor(X_train_red, dtype=torch.float32)\n",
    "    y_tensor = torch.tensor(y_train,    dtype=torch.float32).unsqueeze(1)\n",
    "    loader   = DataLoader(TensorDataset(X_tensor, y_tensor), batch_size=32, shuffle=True)\n",
    "\n",
    "    n_pos = (y_train == 1).sum()\n",
    "    n_neg = (y_train == 0).sum()\n",
    "    pos_weight = torch.tensor([n_neg / n_pos], dtype=torch.float32).to(device)\n",
    "\n",
    "    # Initialize and train model\n",
    "    model = RewardLSTM(input_dim=n_comp).to(device)\n",
    "    opt   = torch.optim.Adam(model.parameters(), lr=1e-4)\n",
    "    loss_fn = nn.BCEWithLogitsLoss(pos_weight = pos_weight)\n",
    "\n",
    "    for epoch in range(1, 12):\n",
    "        model.train()\n",
    "        tot = 0.0\n",
    "        for bx, by in loader:\n",
    "            bx, by = bx.to(device), by.to(device)\n",
    "            opt.zero_grad()\n",
    "            preds = model(bx)\n",
    "            loss  = loss_fn(preds, by)\n",
    "            loss.backward()\n",
    "            opt.step()\n",
    "            tot += loss.item()\n",
    "        print(f\"  [dim={n_comp}] Epoch {epoch:2d} — loss: {tot:.4f}\")\n",
    "\n",
    "    torch.save(model.state_dict(), f\"models/reward_model_math_{n_comp}.pt\")"
   ]
  },
  {
   "cell_type": "markdown",
   "id": "d60ec37a-f590-46e1-9867-778562b10e95",
   "metadata": {},
   "source": [
    "For each PCA setting, we reload the corresponding dimensionality reduction and trained reward model, run the model on the test data, and compute metrics like accuracy, precision, recall, F1, and ROC AUC. We also print the confusion matrix and a detailed classification report, so we can see how well our reward model generalizes to new reasoning trajectories at different feature sizes."
   ]
  },
  {
   "cell_type": "code",
   "execution_count": 10,
   "id": "95364847-2360-4bca-9d41-9fea34e4bdac",
   "metadata": {},
   "outputs": [
    {
     "name": "stdout",
     "output_type": "stream",
     "text": [
      "\n",
      "=== Evaluating model with PCA 10 components ===\n",
      "Accuracy: 0.6391489361702127\n",
      "Precision: 0.3286384976525822\n",
      "Recall: 0.5035971223021583\n",
      "F1: 0.3977272727272727\n",
      "ROC AUC: 0.6377774034952639\n",
      "\n",
      "Confusion matrix:\n",
      " [[611 286]\n",
      " [138 140]]\n",
      "\n",
      "Full report:\n",
      "               precision    recall  f1-score   support\n",
      "\n",
      "         0.0       0.82      0.68      0.74       897\n",
      "         1.0       0.33      0.50      0.40       278\n",
      "\n",
      "    accuracy                           0.64      1175\n",
      "   macro avg       0.57      0.59      0.57      1175\n",
      "weighted avg       0.70      0.64      0.66      1175\n",
      "\n",
      "\n",
      "=== Evaluating model with PCA 50 components ===\n",
      "Accuracy: 0.6757446808510639\n",
      "Precision: 0.3611859838274933\n",
      "Recall: 0.48201438848920863\n",
      "F1: 0.41294298921417566\n",
      "ROC AUC: 0.6518009672529534\n",
      "\n",
      "Confusion matrix:\n",
      " [[660 237]\n",
      " [144 134]]\n",
      "\n",
      "Full report:\n",
      "               precision    recall  f1-score   support\n",
      "\n",
      "         0.0       0.82      0.74      0.78       897\n",
      "         1.0       0.36      0.48      0.41       278\n",
      "\n",
      "    accuracy                           0.68      1175\n",
      "   macro avg       0.59      0.61      0.59      1175\n",
      "weighted avg       0.71      0.68      0.69      1175\n",
      "\n",
      "\n",
      "=== Evaluating model with PCA 100 components ===\n",
      "Accuracy: 0.6621276595744681\n",
      "Precision: 0.3421750663129973\n",
      "Recall: 0.46402877697841727\n",
      "F1: 0.3938931297709924\n",
      "ROC AUC: 0.606277519790188\n",
      "\n",
      "Confusion matrix:\n",
      " [[649 248]\n",
      " [149 129]]\n",
      "\n",
      "Full report:\n",
      "               precision    recall  f1-score   support\n",
      "\n",
      "         0.0       0.81      0.72      0.77       897\n",
      "         1.0       0.34      0.46      0.39       278\n",
      "\n",
      "    accuracy                           0.66      1175\n",
      "   macro avg       0.58      0.59      0.58      1175\n",
      "weighted avg       0.70      0.66      0.68      1175\n",
      "\n",
      "\n",
      "=== Evaluating model with PCA 500 components ===\n",
      "Accuracy: 0.7097872340425532\n",
      "Precision: 0.3764705882352941\n",
      "Recall: 0.34532374100719426\n",
      "F1: 0.3602251407129456\n",
      "ROC AUC: 0.6074324486898777\n",
      "\n",
      "Confusion matrix:\n",
      " [[738 159]\n",
      " [182  96]]\n",
      "\n",
      "Full report:\n",
      "               precision    recall  f1-score   support\n",
      "\n",
      "         0.0       0.80      0.82      0.81       897\n",
      "         1.0       0.38      0.35      0.36       278\n",
      "\n",
      "    accuracy                           0.71      1175\n",
      "   macro avg       0.59      0.58      0.59      1175\n",
      "weighted avg       0.70      0.71      0.71      1175\n",
      "\n"
     ]
    }
   ],
   "source": [
    "for n_comp in pca_dims:\n",
    "    print(f\"\\n=== Evaluating model with PCA {n_comp} components ===\")\n",
    "\n",
    "    # Load matching PCA transformer\n",
    "    with open(f\"models/pca_math_{n_comp}.pkl\", \"rb\") as f:\n",
    "        pca = pickle.load(f)\n",
    "\n",
    "    flat_test_red  = pca.transform(flat_test)                # (N_test*T, n_comp)\n",
    "    X_test_red  = flat_test_red.reshape(N_test,  T, n_comp)\n",
    "\n",
    "    # Load trained model weights\n",
    "    model = RewardLSTM(input_dim=n_comp).to(device)\n",
    "    model.load_state_dict(torch.load(f\"models/reward_model_math_{n_comp}.pt\", map_location=device))\n",
    "    model.eval()\n",
    "\n",
    "    with torch.no_grad():\n",
    "        X_test_tensor = torch.tensor(X_test_red, dtype=torch.float32).to(device)\n",
    "        logits = model(X_test_tensor)\n",
    "        probs = torch.sigmoid(logits).cpu().numpy().flatten()\n",
    "        # preds = model(X_test_tensor).cpu().numpy().flatten()\n",
    "\n",
    "    threshold = 0.5  # You can adjust as needed\n",
    "    y_pred_labels = (probs >= threshold).astype(int)\n",
    "\n",
    "    print(\"Accuracy:\", accuracy_score(y_test, y_pred_labels))\n",
    "    print(\"Precision:\", precision_score(y_test, y_pred_labels))\n",
    "    print(\"Recall:\", recall_score(y_test, y_pred_labels))\n",
    "    print(\"F1:\", f1_score(y_test, y_pred_labels))\n",
    "    print(\"ROC AUC:\", roc_auc_score(y_test, probs))\n",
    "    print(\"\\nConfusion matrix:\\n\", confusion_matrix(y_test, y_pred_labels))\n",
    "    print(\"\\nFull report:\\n\", classification_report(y_test, y_pred_labels))"
   ]
  }
 ],
 "metadata": {
  "kernelspec": {
   "display_name": "project",
   "language": "python",
   "name": "project"
  },
  "language_info": {
   "codemirror_mode": {
    "name": "ipython",
    "version": 3
   },
   "file_extension": ".py",
   "mimetype": "text/x-python",
   "name": "python",
   "nbconvert_exporter": "python",
   "pygments_lexer": "ipython3",
   "version": "3.13.2"
  }
 },
 "nbformat": 4,
 "nbformat_minor": 5
}
